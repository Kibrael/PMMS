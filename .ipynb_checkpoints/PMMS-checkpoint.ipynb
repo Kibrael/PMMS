{
 "cells": [
  {
   "cell_type": "code",
   "execution_count": 42,
   "metadata": {
    "collapsed": false
   },
   "outputs": [],
   "source": [
    "import pandas as pd\n",
    "\n",
    "%matplotlib inline\n",
    "col_names = ['week', '30yr FRM', '30 yr p&f', '15yr FRM', '15yr p&f', '5/1 ARM', '5/1 ARM p&f', '5/1 ARM margin',  '1yr ARM', '1yr ARM p&f', '1yr ARM margin', '30yr FRM 1yr ARM spread']\n",
    "\n",
    "rates_2015 = pd.read_csv('PMMS2015.csv', names=col_names, header=0)\n",
    "rates_2015['date'] = rates['week'] + '-2015'\n",
    "\n",
    "rates_2014 = pd.read_csv('PMMS2014.csv', names=col_names, header=0)\n",
    "rates_2014['date'] = rates_2014['week'] + '-2014'\n",
    "\n",
    "rates_2013 = pd.read_csv('PMMS2013.csv', names=col_names, header=0)\n",
    "rates_2013['date'] = rates_2013['week'] + '-2013'\n",
    "\n",
    "rates_2012 = pd.read_csv('PMMS2012b.csv', names=col_names, header=0)\n",
    "rates_2012['date'] = rates_2012['week']\n",
    "\n",
    "rates_2011 = pd.read_csv('PMMS2011.csv', names=col_names, header=0)\n",
    "rates_2011['date'] = rates_2011['week'] + '-2011'\n",
    "\n",
    "rates_2010 = pd.read_csv('PMMS2010.csv', names=col_names, header=0)\n",
    "rates_2011['date'] = rates_2011['week'] + '-2010'"
   ]
  },
  {
   "cell_type": "code",
   "execution_count": 16,
   "metadata": {
    "collapsed": false
   },
   "outputs": [
    {
     "data": {
      "text/plain": [
       "<matplotlib.axes._subplots.AxesSubplot at 0x10f1e7ad0>"
      ]
     },
     "execution_count": 16,
     "metadata": {},
     "output_type": "execute_result"
    },
    {
     "data": {
      "image/png": "[encoded data removed]",
      "text/plain": [
       "<matplotlib.figure.Figure at 0x10ee71610>"
      ]
     },
     "metadata": {},
     "output_type": "display_data"
    }
   ],
   "source": [
    "rates_2015.plot(x='date', y='30yr FRM')\n"
   ]
  },
  {
   "cell_type": "code",
   "execution_count": 43,
   "metadata": {
    "collapsed": false
   },
   "outputs": [
    {
     "data": {
      "text/html": [
       "<div>\n",
       "<table border=\"1\" class=\"dataframe\">\n",
       "  <thead>\n",
       "    <tr style=\"text-align: right;\">\n",
       "      <th></th>\n",
       "      <th>week</th>\n",
       "      <th>30yr FRM</th>\n",
       "      <th>30 yr p&amp;f</th>\n",
       "      <th>15yr FRM</th>\n",
       "      <th>15yr p&amp;f</th>\n",
       "      <th>5/1 ARM</th>\n",
       "      <th>5/1 ARM p&amp;f</th>\n",
       "      <th>5/1 ARM margin</th>\n",
       "      <th>1yr ARM</th>\n",
       "      <th>1yr ARM p&amp;f</th>\n",
       "      <th>1yr ARM margin</th>\n",
       "      <th>30yr FRM 1yr ARM spread</th>\n",
       "      <th>date</th>\n",
       "    </tr>\n",
       "  </thead>\n",
       "  <tbody>\n",
       "    <tr>\n",
       "      <th>0</th>\n",
       "      <td>Week</td>\n",
       "      <td>30 yr FRM</td>\n",
       "      <td>30 yr fees and points</td>\n",
       "      <td>15 yr FRM</td>\n",
       "      <td>15 yr fees and points</td>\n",
       "      <td>5/1 ARM</td>\n",
       "      <td>5/1 ARM fees and points</td>\n",
       "      <td>5/1  ARM margin</td>\n",
       "      <td>1  yr ARM</td>\n",
       "      <td>1 yr ARM fees and points</td>\n",
       "      <td>1 yr ARM margin</td>\n",
       "      <td>30 yr FRM 1 yr ARM spread</td>\n",
       "      <td>Week</td>\n",
       "    </tr>\n",
       "    <tr>\n",
       "      <th>1</th>\n",
       "      <td>1/5</td>\n",
       "      <td>3.91</td>\n",
       "      <td>0.8</td>\n",
       "      <td>3.23</td>\n",
       "      <td>0.8</td>\n",
       "      <td>2.86</td>\n",
       "      <td>0.7</td>\n",
       "      <td>2.74</td>\n",
       "      <td>2.80</td>\n",
       "      <td>0.6</td>\n",
       "      <td>2.76</td>\n",
       "      <td>1.11</td>\n",
       "      <td>1/5</td>\n",
       "    </tr>\n",
       "    <tr>\n",
       "      <th>2</th>\n",
       "      <td>1/12</td>\n",
       "      <td>3.89</td>\n",
       "      <td>0.7</td>\n",
       "      <td>3.16</td>\n",
       "      <td>0.8</td>\n",
       "      <td>2.82</td>\n",
       "      <td>0.7</td>\n",
       "      <td>2.74</td>\n",
       "      <td>2.76</td>\n",
       "      <td>0.6</td>\n",
       "      <td>2.76</td>\n",
       "      <td>1.13</td>\n",
       "      <td>1/12</td>\n",
       "    </tr>\n",
       "    <tr>\n",
       "      <th>3</th>\n",
       "      <td>1/19</td>\n",
       "      <td>3.88</td>\n",
       "      <td>0.8</td>\n",
       "      <td>3.17</td>\n",
       "      <td>0.8</td>\n",
       "      <td>2.82</td>\n",
       "      <td>0.7</td>\n",
       "      <td>2.74</td>\n",
       "      <td>2.74</td>\n",
       "      <td>0.6</td>\n",
       "      <td>2.76</td>\n",
       "      <td>1.14</td>\n",
       "      <td>1/19</td>\n",
       "    </tr>\n",
       "    <tr>\n",
       "      <th>4</th>\n",
       "      <td>1/26</td>\n",
       "      <td>3.98</td>\n",
       "      <td>0.7</td>\n",
       "      <td>3.24</td>\n",
       "      <td>0.8</td>\n",
       "      <td>2.85</td>\n",
       "      <td>0.7</td>\n",
       "      <td>2.74</td>\n",
       "      <td>2.74</td>\n",
       "      <td>0.6</td>\n",
       "      <td>2.76</td>\n",
       "      <td>1.24</td>\n",
       "      <td>1/26</td>\n",
       "    </tr>\n",
       "  </tbody>\n",
       "</table>\n",
       "</div>"
      ],
      "text/plain": [
       "   week   30yr FRM              30 yr p&f   15yr FRM               15yr p&f  \\\n",
       "0  Week  30 yr FRM  30 yr fees and points  15 yr FRM  15 yr fees and points   \n",
       "1   1/5       3.91                    0.8       3.23                    0.8   \n",
       "2  1/12       3.89                    0.7       3.16                    0.8   \n",
       "3  1/19       3.88                    0.8       3.17                    0.8   \n",
       "4  1/26       3.98                    0.7       3.24                    0.8   \n",
       "\n",
       "   5/1 ARM              5/1 ARM p&f   5/1 ARM margin    1yr ARM  \\\n",
       "0  5/1 ARM  5/1 ARM fees and points  5/1  ARM margin  1  yr ARM   \n",
       "1     2.86                      0.7             2.74       2.80   \n",
       "2     2.82                      0.7             2.74       2.76   \n",
       "3     2.82                      0.7             2.74       2.74   \n",
       "4     2.85                      0.7             2.74       2.74   \n",
       "\n",
       "                1yr ARM p&f   1yr ARM margin    30yr FRM 1yr ARM spread  date  \n",
       "0  1 yr ARM fees and points  1 yr ARM margin  30 yr FRM 1 yr ARM spread  Week  \n",
       "1                       0.6             2.76                       1.11   1/5  \n",
       "2                       0.6             2.76                       1.13  1/12  \n",
       "3                       0.6             2.76                       1.14  1/19  \n",
       "4                       0.6             2.76                       1.24  1/26  "
      ]
     },
     "execution_count": 43,
     "metadata": {},
     "output_type": "execute_result"
    }
   ],
   "source": [
    "\n",
    "weeks = rates_2012['week']\n",
    "derp = []\n",
    "for week in weeks:\n",
    "    derp.append(week)\n",
    "\n",
    "rates_2012.head()"
   ]
  },
  {
   "cell_type": "code",
   "execution_count": 40,
   "metadata": {
    "collapsed": false
   },
   "outputs": [
    {
     "data": {
      "text/html": [
       "<div>\n",
       "<table border=\"1\" class=\"dataframe\">\n",
       "  <thead>\n",
       "    <tr style=\"text-align: right;\">\n",
       "      <th></th>\n",
       "      <th>week</th>\n",
       "      <th>30yr FRM</th>\n",
       "      <th>30 yr p&amp;f</th>\n",
       "      <th>15yr FRM</th>\n",
       "      <th>15yr p&amp;f</th>\n",
       "      <th>5/1 ARM</th>\n",
       "      <th>5/1 ARM p&amp;f</th>\n",
       "      <th>5/1 ARM margin</th>\n",
       "      <th>1yr ARM</th>\n",
       "      <th>1yr ARM p&amp;f</th>\n",
       "      <th>1yr ARM margin</th>\n",
       "      <th>30yr FRM 1yr ARM spread</th>\n",
       "      <th>date</th>\n",
       "    </tr>\n",
       "  </thead>\n",
       "  <tbody>\n",
       "    <tr>\n",
       "      <th>0</th>\n",
       "      <td>1/3</td>\n",
       "      <td>3.34</td>\n",
       "      <td>0.7</td>\n",
       "      <td>2.64</td>\n",
       "      <td>0.6</td>\n",
       "      <td>2.71</td>\n",
       "      <td>0.6</td>\n",
       "      <td>2.75</td>\n",
       "      <td>2.57</td>\n",
       "      <td>0.4</td>\n",
       "      <td>2.76</td>\n",
       "      <td>0.77</td>\n",
       "      <td>1/3-2013</td>\n",
       "    </tr>\n",
       "    <tr>\n",
       "      <th>1</th>\n",
       "      <td>1/10</td>\n",
       "      <td>3.40</td>\n",
       "      <td>0.7</td>\n",
       "      <td>2.66</td>\n",
       "      <td>0.7</td>\n",
       "      <td>2.67</td>\n",
       "      <td>0.6</td>\n",
       "      <td>2.73</td>\n",
       "      <td>2.60</td>\n",
       "      <td>0.5</td>\n",
       "      <td>2.74</td>\n",
       "      <td>0.80</td>\n",
       "      <td>1/10-2013</td>\n",
       "    </tr>\n",
       "    <tr>\n",
       "      <th>2</th>\n",
       "      <td>1/17</td>\n",
       "      <td>3.38</td>\n",
       "      <td>0.7</td>\n",
       "      <td>2.66</td>\n",
       "      <td>0.7</td>\n",
       "      <td>2.67</td>\n",
       "      <td>0.6</td>\n",
       "      <td>2.74</td>\n",
       "      <td>2.57</td>\n",
       "      <td>0.4</td>\n",
       "      <td>2.76</td>\n",
       "      <td>0.81</td>\n",
       "      <td>1/17-2013</td>\n",
       "    </tr>\n",
       "    <tr>\n",
       "      <th>3</th>\n",
       "      <td>1/24</td>\n",
       "      <td>3.42</td>\n",
       "      <td>0.7</td>\n",
       "      <td>2.71</td>\n",
       "      <td>0.7</td>\n",
       "      <td>2.67</td>\n",
       "      <td>0.5</td>\n",
       "      <td>2.74</td>\n",
       "      <td>2.57</td>\n",
       "      <td>0.5</td>\n",
       "      <td>2.76</td>\n",
       "      <td>0.85</td>\n",
       "      <td>1/24-2013</td>\n",
       "    </tr>\n",
       "    <tr>\n",
       "      <th>4</th>\n",
       "      <td>1/31</td>\n",
       "      <td>3.53</td>\n",
       "      <td>0.7</td>\n",
       "      <td>2.81</td>\n",
       "      <td>0.7</td>\n",
       "      <td>2.70</td>\n",
       "      <td>0.6</td>\n",
       "      <td>2.74</td>\n",
       "      <td>2.59</td>\n",
       "      <td>0.5</td>\n",
       "      <td>2.76</td>\n",
       "      <td>0.94</td>\n",
       "      <td>1/31-2013</td>\n",
       "    </tr>\n",
       "  </tbody>\n",
       "</table>\n",
       "</div>"
      ],
      "text/plain": [
       "   week  30yr FRM  30 yr p&f  15yr FRM  15yr p&f  5/1 ARM  5/1 ARM p&f  \\\n",
       "0   1/3      3.34        0.7      2.64       0.6     2.71          0.6   \n",
       "1  1/10      3.40        0.7      2.66       0.7     2.67          0.6   \n",
       "2  1/17      3.38        0.7      2.66       0.7     2.67          0.6   \n",
       "3  1/24      3.42        0.7      2.71       0.7     2.67          0.5   \n",
       "4  1/31      3.53        0.7      2.81       0.7     2.70          0.6   \n",
       "\n",
       "   5/1 ARM margin  1yr ARM  1yr ARM p&f  1yr ARM margin  \\\n",
       "0            2.75     2.57          0.4            2.76   \n",
       "1            2.73     2.60          0.5            2.74   \n",
       "2            2.74     2.57          0.4            2.76   \n",
       "3            2.74     2.57          0.5            2.76   \n",
       "4            2.74     2.59          0.5            2.76   \n",
       "\n",
       "   30yr FRM 1yr ARM spread       date  \n",
       "0                     0.77   1/3-2013  \n",
       "1                     0.80  1/10-2013  \n",
       "2                     0.81  1/17-2013  \n",
       "3                     0.85  1/24-2013  \n",
       "4                     0.94  1/31-2013  "
      ]
     },
     "execution_count": 40,
     "metadata": {},
     "output_type": "execute_result"
    }
   ],
   "source": [
    "rates_2013.head()\n"
   ]
  },
  {
   "cell_type": "code",
   "execution_count": 34,
   "metadata": {
    "collapsed": false
   },
   "outputs": [
    {
     "data": {
      "text/plain": [
       "(52, 13)"
      ]
     },
     "execution_count": 34,
     "metadata": {},
     "output_type": "execute_result"
    }
   ],
   "source": [
    "rates_2013.shape\n"
   ]
  },
  {
   "cell_type": "code",
   "execution_count": null,
   "metadata": {
    "collapsed": true
   },
   "outputs": [],
   "source": []
  }
 ],
 "metadata": {
  "kernelspec": {
   "display_name": "Python 2",
   "language": "python",
   "name": "python2"
  },
  "language_info": {
   "codemirror_mode": {
    "name": "ipython",
    "version": 2
   },
   "file_extension": ".py",
   "mimetype": "text/x-python",
   "name": "python",
   "nbconvert_exporter": "python",
   "pygments_lexer": "ipython2",
   "version": "2.7.10"
  }
 },
 "nbformat": 4,
 "nbformat_minor": 0
}
